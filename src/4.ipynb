{
 "cells": [
  {
   "cell_type": "code",
   "execution_count": 44,
   "metadata": {},
   "outputs": [
    {
     "data": {
      "text/plain": [
       "['Hi',\n",
       " 'He',\n",
       " 'Lied',\n",
       " 'Because',\n",
       " 'Boron',\n",
       " 'Could',\n",
       " 'Not',\n",
       " 'Oxidize',\n",
       " 'Fluorine.',\n",
       " 'New',\n",
       " 'Nations',\n",
       " 'Might',\n",
       " 'Also',\n",
       " 'Sign',\n",
       " 'Peace',\n",
       " 'Security',\n",
       " 'Clause.',\n",
       " 'Arthur',\n",
       " 'King',\n",
       " 'Can.']"
      ]
     },
     "execution_count": 44,
     "metadata": {},
     "output_type": "execute_result"
    }
   ],
   "source": [
    "string = \"Hi He Lied Because Boron Could Not Oxidize Fluorine. New Nations Might Also Sign Peace Security Clause. Arthur King Can.\"\n",
    "string = string.split(\" \")\n",
    "string"
   ]
  },
  {
   "cell_type": "code",
   "execution_count": 47,
   "metadata": {},
   "outputs": [
    {
     "name": "stdout",
     "output_type": "stream",
     "text": [
      "HHeLiBeBCNOFNeNaMiAlSiPSClArKCa['H', 'He', 'Li', 'Be', 'B', 'C', 'N', 'O', 'F', 'Ne', 'Na', 'Mi', 'Al', 'Si', 'P', 'S', 'Cl', 'Ar', 'K', 'Ca']\n"
     ]
    }
   ],
   "source": [
    "target = [1, 5, 6, 7, 8, 9, 15, 16, 19]\n",
    "ans=[]\n",
    "for s in string:\n",
    "    current_num = string.index(s)\n",
    "    if current_num+1 in target:\n",
    "        print(s[0], end=\"\")\n",
    "        ans.append(s[0])\n",
    "    else:\n",
    "        print(s[0:2], end=\"\")\n",
    "        ans.append(s[0:2])\n",
    "print(ans)"
   ]
  },
  {
   "cell_type": "markdown",
   "metadata": {},
   "source": [
    "変な文字列出てきて元素の水平リベーのやつ連想できなくて詰まった"
   ]
  },
  {
   "cell_type": "code",
   "execution_count": 46,
   "metadata": {},
   "outputs": [
    {
     "data": {
      "text/plain": [
       "{1: 'H',\n",
       " 2: 'He',\n",
       " 3: 'Li',\n",
       " 4: 'Be',\n",
       " 5: 'B',\n",
       " 6: 'C',\n",
       " 7: 'N',\n",
       " 8: 'O',\n",
       " 9: 'F',\n",
       " 10: 'Ne',\n",
       " 11: 'Na',\n",
       " 12: 'Mi',\n",
       " 13: 'Al',\n",
       " 14: 'Si',\n",
       " 15: 'P',\n",
       " 16: 'S',\n",
       " 17: 'Cl',\n",
       " 18: 'Ar',\n",
       " 19: 'K',\n",
       " 20: 'Ca'}"
      ]
     },
     "execution_count": 46,
     "metadata": {},
     "output_type": "execute_result"
    }
   ],
   "source": [
    "dict ={}\n",
    "for i in range (len(ans)):\n",
    "    dict[i+1] = ans[i]\n",
    "dict"
   ]
  },
  {
   "cell_type": "code",
   "execution_count": null,
   "metadata": {},
   "outputs": [],
   "source": []
  }
 ],
 "metadata": {
  "kernelspec": {
   "display_name": ".venv",
   "language": "python",
   "name": "python3"
  },
  "language_info": {
   "codemirror_mode": {
    "name": "ipython",
    "version": 3
   },
   "file_extension": ".py",
   "mimetype": "text/x-python",
   "name": "python",
   "nbconvert_exporter": "python",
   "pygments_lexer": "ipython3",
   "version": "3.10.12"
  }
 },
 "nbformat": 4,
 "nbformat_minor": 2
}
