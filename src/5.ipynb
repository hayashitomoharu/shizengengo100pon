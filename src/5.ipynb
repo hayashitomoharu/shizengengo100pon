{
 "cells": [
  {
   "cell_type": "markdown",
   "metadata": {},
   "source": [
    "05. n-gramPermalink\n",
    "与えられたシーケンス（文字列やリストなど）からn-gramを作る関数を作成せよ．この関数を用い，”I am an NLPer”という文から単語bi-gram，文字bi-gramを得よ．\n",
    "\n",
    "調査:\n",
    "- x-gramとは、文字列やリストなどのシーケンスから連続するn個の要素を取り出す操作である。たとえば、”I am an NLPer”という文から単語bi-gramを得るには、単語の区切りをスペースで行い、連続する2つの単語を取り出せばよい。文字bi-gramを得るには、文字の区切りを無視して連続する2つの文字を取り出せばよい。\n",
    "- また、n-gramは、nが1のときはuni-gram、2のときはbi-gram、3のときはtri-gramと呼ばれる。\n",
    "- たとえば文字bi-gramのとき、\"I \", \" a\", \"am\", \"m \"のように連続する2つの文字を取り出す。"
   ]
  },
  {
   "cell_type": "code",
   "execution_count": 5,
   "metadata": {},
   "outputs": [
    {
     "name": "stdout",
     "output_type": "stream",
     "text": [
      "['I ', ' a', 'am', 'm ', ' a', 'an', 'n ', ' N', 'NL', 'LP', 'Pe', 'er']\n"
     ]
    }
   ],
   "source": [
    "char_gram=[]\n",
    "mem=\"\"\n",
    "string=\"I am an NLPer\"\n",
    "for i in range(len(string)):\n",
    "    mem= string[i:i+2]\n",
    "    if len(mem)==2:\n",
    "        char_gram.append(mem)\n",
    "print(char_gram)\n",
    "\n"
   ]
  },
  {
   "cell_type": "code",
   "execution_count": null,
   "metadata": {},
   "outputs": [],
   "source": []
  }
 ],
 "metadata": {
  "kernelspec": {
   "display_name": ".venv",
   "language": "python",
   "name": "python3"
  },
  "language_info": {
   "codemirror_mode": {
    "name": "ipython",
    "version": 3
   },
   "file_extension": ".py",
   "mimetype": "text/x-python",
   "name": "python",
   "nbconvert_exporter": "python",
   "pygments_lexer": "ipython3",
   "version": "3.10.12"
  }
 },
 "nbformat": 4,
 "nbformat_minor": 2
}
